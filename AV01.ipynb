{
 "cells": [
  {
   "cell_type": "code",
   "execution_count": null,
   "id": "da10df93",
   "metadata": {},
   "outputs": [],
   "source": [
    "# Solicita uma string de números ao usuário\n",
    "RA = input(\"Digite seu RA: \")\n",
    "\n",
    "# Converte cada caractere em inteiro e soma\n",
    "soma = sum(int(c) for c in RA)\n",
    "\n",
    "h0 = soma*3\n",
    "\n",
    "v0 = input(\"Insira a velocidade inicial, em metros por segundo: \")\n",
    "v0 = int(v0)\n",
    "\n",
    "# Alt máxima do projétil => v^2 = v0^2 -2g(h-h0) => h = h0 + v0^2/(2g)\n",
    "\n",
    "g = 9.8\n",
    "h = h0 + v0**2/(2*g)\n",
    "\n",
    "#tempo de queda: t = (2h/g)^0.5\n",
    "t = (2 * h / g) ** 0.5\n",
    "\n",
    "print(\"O tempo de queda do projétil é:\", t, \"segundos\")\n"
   ]
  }
 ],
 "metadata": {
  "language_info": {
   "name": "python"
  }
 },
 "nbformat": 4,
 "nbformat_minor": 5
}
