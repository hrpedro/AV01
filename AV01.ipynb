{
 "cells": [
  {
   "cell_type": "markdown",
   "id": "76083d24",
   "metadata": {},
   "source": [
    "![alt text](quest.png)"
   ]
  },
  {
   "cell_type": "markdown",
   "id": "9419b83d",
   "metadata": {},
   "source": [
    "![alt text](fluxograma.png)"
   ]
  },
  {
   "cell_type": "code",
   "execution_count": 1,
   "id": "da10df93",
   "metadata": {},
   "outputs": [
    {
     "name": "stdout",
     "output_type": "stream",
     "text": [
      "O tempo de queda do projétil é: 4.681883522627429 segundos\n"
     ]
    }
   ],
   "source": [
    "# Solicita uma string de números ao usuário\n",
    "RA = input(\"Digite seu RA: \")\n",
    "\n",
    "# Converte cada caractere em inteiro e soma\n",
    "soma = sum(int(c) for c in RA)\n",
    "\n",
    "h0 = soma*3\n",
    "\n",
    "v0 = input(\"Insira a velocidade inicial, em metros por segundo: \")\n",
    "v0 = int(v0)\n",
    "\n",
    "# Alt máxima do projétil => v^2 = v0^2 -2g(h-h0) => h = h0 + v0^2/(2g)\n",
    "\n",
    "g = 9.8\n",
    "h = h0 + v0**2/(2*g)\n",
    "\n",
    "#tempo de queda: t = (2h/g)^0.5\n",
    "t = (2 * h / g) ** 0.5\n",
    "\n",
    "print(\"O tempo de queda do projétil é:\", t, \"segundos\")\n"
   ]
  },
  {
   "cell_type": "code",
   "execution_count": null,
   "id": "06a221f9",
   "metadata": {},
   "outputs": [],
   "source": []
  }
 ],
 "metadata": {
  "kernelspec": {
   "display_name": "base",
   "language": "python",
   "name": "python3"
  },
  "language_info": {
   "codemirror_mode": {
    "name": "ipython",
    "version": 3
   },
   "file_extension": ".py",
   "mimetype": "text/x-python",
   "name": "python",
   "nbconvert_exporter": "python",
   "pygments_lexer": "ipython3",
   "version": "3.12.7"
  }
 },
 "nbformat": 4,
 "nbformat_minor": 5
}
